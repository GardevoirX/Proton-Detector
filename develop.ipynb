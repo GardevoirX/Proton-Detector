{
 "cells": [
  {
   "cell_type": "code",
   "execution_count": 1,
   "metadata": {},
   "outputs": [],
   "source": [
    "import MDAnalysis as mda\n",
    "import numpy as np\n",
    "from MDAnalysis import transformations\n",
    "from src.lib import run, get_proton_pos\n",
    "CELL = np.array([19.728, 19.728, 19.728, 90, 90, 90])"
   ]
  },
  {
   "cell_type": "code",
   "execution_count": 2,
   "metadata": {},
   "outputs": [],
   "source": [
    "def calc_traj_occupancy(traj, proton_trajs):\n",
    "    traj_occupancy = np.full((len(proton_trajs), len(traj.trajectory)), False)\n",
    "    for i, pt in enumerate(proton_trajs):\n",
    "        traj_occupancy[i, pt.iframe] = True\n",
    "    return traj_occupancy\n",
    "\n",
    "def calc_displacement(proton_pos):\n",
    "    cell = np.array(CELL[:3])\n",
    "    diff = proton_pos[1:] - proton_pos[:-1]\n",
    "    diff -= np.round(diff / cell) * cell\n",
    "    pos = [diff[0]]\n",
    "    for i in range(1, len(diff)):\n",
    "        pos.append(pos[-1] + diff[i])\n",
    "    displacement = np.array([np.linalg.norm(pos[i] - pos[0]) ** 2 for i in range(len(pos))])\n",
    "\n",
    "    return diff, displacement"
   ]
  },
  {
   "cell_type": "code",
   "execution_count": 3,
   "metadata": {},
   "outputs": [],
   "source": [
    "top_file = 'data/top.xyz'\n",
    "traj_file = 'data/traj.xtc'"
   ]
  },
  {
   "cell_type": "code",
   "execution_count": 4,
   "metadata": {},
   "outputs": [],
   "source": [
    "traj = mda.Universe(top_file, traj_file)\n",
    "transform = transformations.set_dimensions(CELL)\n",
    "traj.trajectory.add_transformations(transform)\n",
    "O_idx = traj.select_atoms('name O').indices\n",
    "H_idx = traj.select_atoms('name H').indices\n",
    "traj.dimensions = CELL"
   ]
  },
  {
   "cell_type": "code",
   "execution_count": 5,
   "metadata": {},
   "outputs": [
    {
     "data": {
      "application/vnd.jupyter.widget-view+json": {
       "model_id": "8a1097243bd54d1a93aa243815421edf",
       "version_major": 2,
       "version_minor": 0
      },
      "text/plain": [
       "Output()"
      ]
     },
     "metadata": {},
     "output_type": "display_data"
    },
    {
     "data": {
      "text/html": [
       "<pre style=\"white-space:pre;overflow-x:auto;line-height:normal;font-family:Menlo,'DejaVu Sans Mono',consolas,'Courier New',monospace\">/home/qxu/Programs/miniconda3/envs/py/lib/python3.12/site-packages/MDAnalysis/core/groups.py:445: \n",
       "DeprecationWarning: The 'pbc' kwarg has been deprecated and will be removed in version 3.0., please use 'wrap' \n",
       "instead\n",
       "  warnings.warn(\"The 'pbc' kwarg has been deprecated and will be \"\n",
       "</pre>\n"
      ],
      "text/plain": [
       "/home/qxu/Programs/miniconda3/envs/py/lib/python3.12/site-packages/MDAnalysis/core/groups.py:445: \n",
       "DeprecationWarning: The 'pbc' kwarg has been deprecated and will be removed in version 3.0., please use 'wrap' \n",
       "instead\n",
       "  warnings.warn(\"The 'pbc' kwarg has been deprecated and will be \"\n"
      ]
     },
     "metadata": {},
     "output_type": "display_data"
    },
    {
     "data": {
      "text/html": [
       "<pre style=\"white-space:pre;overflow-x:auto;line-height:normal;font-family:Menlo,'DejaVu Sans Mono',consolas,'Courier New',monospace\"></pre>\n"
      ],
      "text/plain": []
     },
     "metadata": {},
     "output_type": "display_data"
    },
    {
     "data": {
      "text/html": [
       "<pre style=\"white-space:pre;overflow-x:auto;line-height:normal;font-family:Menlo,'DejaVu Sans Mono',consolas,'Courier New',monospace\">\n",
       "</pre>\n"
      ],
      "text/plain": [
       "\n"
      ]
     },
     "metadata": {},
     "output_type": "display_data"
    }
   ],
   "source": [
    "proton_trajs = run(traj, O_idx, H_idx)"
   ]
  },
  {
   "cell_type": "code",
   "execution_count": 6,
   "metadata": {},
   "outputs": [],
   "source": [
    "long_trajs = np.array([t for t in proton_trajs if len(t) > 20])\n",
    "traj_occupancy = calc_traj_occupancy(traj, long_trajs)\n",
    "proton_pos = get_proton_pos(traj, traj_occupancy, long_trajs, CELL)"
   ]
  },
  {
   "cell_type": "code",
   "execution_count": 7,
   "metadata": {},
   "outputs": [
    {
     "data": {
      "text/plain": [
       "array([[17.51000023, 14.87000084, 15.07999992],\n",
       "       [19.11800003, 14.37000084, 14.97000122],\n",
       "       [19.19799995, 14.35000038, 14.96000099],\n",
       "       ...,\n",
       "       [12.86000061, 13.93000031, 15.29000092],\n",
       "       [12.80000114, 13.94000053, 15.31000042],\n",
       "       [13.03999996, 14.06000042, 17.22000122]])"
      ]
     },
     "execution_count": 7,
     "metadata": {},
     "output_type": "execute_result"
    }
   ],
   "source": [
    "proton_pos"
   ]
  },
  {
   "cell_type": "code",
   "execution_count": null,
   "metadata": {},
   "outputs": [],
   "source": []
  }
 ],
 "metadata": {
  "kernelspec": {
   "display_name": "deepmd",
   "language": "python",
   "name": "python3"
  },
  "language_info": {
   "codemirror_mode": {
    "name": "ipython",
    "version": 3
   },
   "file_extension": ".py",
   "mimetype": "text/x-python",
   "name": "python",
   "nbconvert_exporter": "python",
   "pygments_lexer": "ipython3",
   "version": "3.12.1"
  }
 },
 "nbformat": 4,
 "nbformat_minor": 2
}
